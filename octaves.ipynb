{
 "cells": [
  {
   "cell_type": "markdown",
   "metadata": {},
   "source": [
    "### PyAudio test"
   ]
  },
  {
   "cell_type": "code",
   "execution_count": 1,
   "metadata": {},
   "outputs": [
    {
     "name": "stdout",
     "output_type": "stream",
     "text": [
      "Played sound for 5.01 seconds\n"
     ]
    }
   ],
   "source": [
    "import time\n",
    "\n",
    "import numpy as np\n",
    "import pyaudio\n",
    "\n",
    "from matplotlib import pyplot as plt\n",
    "\n",
    "p = pyaudio.PyAudio()\n",
    "\n",
    "volume = 0.5  # range [0.0, 1.0]\n",
    "fs = 44100  # sampling rate, Hz, must be integer\n",
    "duration = 5.0  # in seconds, may be float\n",
    "f = 440.0  # sine frequency, Hz, may be float\n",
    "\n",
    "# generate samples, note conversion to float32 array\n",
    "samples = (np.sin(2 * np.pi * np.arange(fs * duration) * f / fs)).astype(np.float32)\n",
    "\n",
    "# per @yahweh comment explicitly convert to bytes sequence\n",
    "output_bytes = (volume * samples).tobytes()\n",
    "\n",
    "# for paFloat32 sample values must be in range [-1.0, 1.0]\n",
    "stream = p.open(format=pyaudio.paFloat32,\n",
    "                channels=1,\n",
    "                rate=fs,\n",
    "                output=True)\n",
    "\n",
    "# play. May repeat with different volume values (if done interactively)\n",
    "start_time = time.time()\n",
    "stream.write(output_bytes)\n",
    "print(\"Played sound for {:.2f} seconds\".format(time.time() - start_time))\n",
    "\n",
    "stream.stop_stream()\n",
    "stream.close()\n",
    "\n",
    "p.terminate()"
   ]
  },
  {
   "cell_type": "markdown",
   "metadata": {},
   "source": [
    "### Generate a piano note"
   ]
  },
  {
   "cell_type": "code",
   "execution_count": 8,
   "metadata": {},
   "outputs": [
    {
     "name": "stdout",
     "output_type": "stream",
     "text": [
      "1 1.0\n",
      "2 0.5\n",
      "3 0.3333333333333333\n",
      "4 0.25\n",
      "5 0.2\n",
      "6 0.16666666666666666\n",
      "7 0.14285714285714285\n",
      "8 0.125\n",
      "9 0.10758849705313223\n",
      "10 0.09260227758521473\n",
      "11 0.07970351895272167\n",
      "12 0.0686014545117533\n",
      "Played sound for 3.00 seconds\n"
     ]
    }
   ],
   "source": [
    "p = pyaudio.PyAudio()\n",
    "\n",
    "volume = 0.5  # range [0.0, 1.0]\n",
    "fs = 44100  # sampling rate, Hz, must be integer\n",
    "duration = 3.0  # in seconds, may be float\n",
    "\n",
    "f_fundamental = 440.0  # sine frequency, Hz, may be float\n",
    "spectrum_index = -1.0 # index of the frequency in the spectrum\n",
    "exponential_factor = -0.15\n",
    "switch_to_exp_mode = 9\n",
    "nmodes = 12\n",
    "\n",
    "volume_decay_time = 1.5\n",
    "attack_time = 0.01\n",
    "\n",
    "abscissa = np.arange(fs * duration)\n",
    "samples = np.zeros_like(abscissa, dtype=np.float32)\n",
    "\n",
    "for imode in range(1,nmodes+1):\n",
    "    f = f_fundamental * (imode)\n",
    "    mode = np.sin(2 * np.pi * abscissa * f / fs)\n",
    "    \n",
    "    if imode < switch_to_exp_mode:\n",
    "        amplitude = imode**spectrum_index\n",
    "    else:\n",
    "        amplitude = ((switch_to_exp_mode-1)**spectrum_index) * np.exp(exponential_factor * (imode-switch_to_exp_mode+1))\n",
    "    print(imode, amplitude)\n",
    "\n",
    "    samples += amplitude * mode * np.exp(-imode**1.5*abscissa/(volume_decay_time*fs))\n",
    "\n",
    "# decay and attack\n",
    "#samples *= np.exp(-abscissa/(volume_decay_time*fs))\n",
    "#samples *= np.tanh(abscissa/(attack_time * fs))\n",
    "\n",
    "# per @yahweh comment explicitly convert to bytes sequence\n",
    "output_bytes = (volume * samples).tobytes()\n",
    "\n",
    "# for paFloat32 sample values must be in range [-1.0, 1.0]\n",
    "stream = p.open(format=pyaudio.paFloat32,\n",
    "                channels=1,\n",
    "                rate=fs,\n",
    "                output=True)\n",
    "\n",
    "# play. May repeat with different volume values (if done interactively)\n",
    "start_time = time.time()\n",
    "stream.write(output_bytes)\n",
    "print(\"Played sound for {:.2f} seconds\".format(time.time() - start_time))\n",
    "\n",
    "stream.stop_stream()\n",
    "stream.close()\n",
    "\n",
    "p.terminate()"
   ]
  },
  {
   "cell_type": "code",
   "execution_count": 35,
   "metadata": {},
   "outputs": [],
   "source": [
    "def define_abscissa(fs=44100, duration=1.0):\n",
    "    return np.arange(fs * duration)\n",
    "\n",
    "def generate_one_note(f_fundamental, abscissa, \n",
    "                      spectrum_index=-1.0, exponential_factor=-0.15, switch_to_exp_mode=9, nmodes=12,\n",
    "                      fs=44100, decay_exponent_frequency=1.,\n",
    "                      volume_decay_time=2.5, attack_time=0.015,\n",
    "                      inharmonicity=0.0):\n",
    "    samples = np.zeros_like(abscissa, dtype=np.float32)\n",
    "    for imode in range(1,nmodes+1):\n",
    "        f = f_fundamental * (imode) * (1 + inharmonicity * (imode-1)**2 / 2)\n",
    "        mode = np.sin(2 * np.pi * abscissa * f / fs)\n",
    "\n",
    "        if imode < switch_to_exp_mode:\n",
    "            amplitude = imode**spectrum_index\n",
    "        else:\n",
    "            amplitude = ((switch_to_exp_mode-1)**spectrum_index) * np.exp(exponential_factor * (imode-switch_to_exp_mode+1))\n",
    "        #print(imode, amplitude)\n",
    "\n",
    "        samples += amplitude * mode * np.exp(-imode**decay_exponent_frequency*abscissa/(volume_decay_time*fs))\n",
    "        \n",
    "    # decay and attack\n",
    "    #samples *= np.exp(-abscissa/(volume_decay_time*fs))\n",
    "    samples *= np.tanh(abscissa/(attack_time * fs))\n",
    "\n",
    "    return samples\n",
    "\n",
    "\n",
    "def play_samples(samples, volume=0.5, fs=44100):\n",
    "    output_bytes = (volume * samples).tobytes()\n",
    "    p = pyaudio.PyAudio()\n",
    "    stream = p.open(format=pyaudio.paFloat32,\n",
    "                    channels=1,\n",
    "                    rate=fs,\n",
    "                    output=True)\n",
    "    start_time = time.time()\n",
    "    stream.write(output_bytes)\n",
    "    print(\"Played sound for {:.2f} seconds\".format(time.time() - start_time))\n",
    "    stream.stop_stream()\n",
    "    stream.close()\n",
    "    p.terminate()\n"
   ]
  },
  {
   "cell_type": "code",
   "execution_count": 60,
   "metadata": {},
   "outputs": [
    {
     "name": "stdout",
     "output_type": "stream",
     "text": [
      "Played sound for 5.00 seconds\n"
     ]
    }
   ],
   "source": [
    "abscissa = define_abscissa(duration=5.0)\n",
    "inharmonicity = 0.001\n",
    "play_samples(generate_one_note(220.0, abscissa, inharmonicity=inharmonicity) + generate_one_note(441.7, abscissa, inharmonicity=inharmonicity))"
   ]
  },
  {
   "cell_type": "code",
   "execution_count": 54,
   "metadata": {},
   "outputs": [
    {
     "name": "stdout",
     "output_type": "stream",
     "text": [
      "1 \t 220.00 \t 441.70\n",
      "2 \t 440.22 \t 883.84\n",
      "3 \t 661.32 \t 1327.75\n",
      "4 \t 883.96 \t 1774.75\n",
      "5 \t 1108.80 \t 2226.17\n",
      "6 \t 1336.50 \t 2683.33\n",
      "7 \t 1567.72 \t 3147.55\n",
      "8 \t 1803.12 \t 3620.17\n",
      "9 \t 2043.36 \t 4102.51\n",
      "10 \t 2289.10 \t 4595.89\n"
     ]
    }
   ],
   "source": [
    "# print a table with the first 10 harmonics\n",
    "inharmonicity = 0.001\n",
    "f1 = 220. \n",
    "f2 = 441.7\n",
    "for imode in range(1,11):\n",
    "    fh1 = f1 * imode * (1 + inharmonicity * (imode-1)**2 / 2)\n",
    "    fh2 = f2 * imode * (1 + inharmonicity * (imode-1)**2 / 2)\n",
    "    print('{:} \\t {:.2f} \\t {:.2f}'.format(imode, fh1, fh2))"
   ]
  },
  {
   "cell_type": "code",
   "execution_count": 49,
   "metadata": {},
   "outputs": [
    {
     "name": "stdout",
     "output_type": "stream",
     "text": [
      "Played sound for 5.01 seconds\n"
     ]
    }
   ],
   "source": [
    "abscissa = define_abscissa(duration=5.0)\n",
    "inharmonicity = 0.001\n",
    "play_samples(generate_one_note(444.61, abscissa, inharmonicity=inharmonicity) + generate_one_note(220.0, abscissa, inharmonicity=inharmonicity))"
   ]
  },
  {
   "cell_type": "code",
   "execution_count": null,
   "metadata": {},
   "outputs": [],
   "source": []
  },
  {
   "cell_type": "code",
   "execution_count": null,
   "metadata": {},
   "outputs": [],
   "source": []
  }
 ],
 "metadata": {
  "kernelspec": {
   "display_name": "Python 3",
   "language": "python",
   "name": "python3"
  },
  "language_info": {
   "codemirror_mode": {
    "name": "ipython",
    "version": 3
   },
   "file_extension": ".py",
   "mimetype": "text/x-python",
   "name": "python",
   "nbconvert_exporter": "python",
   "pygments_lexer": "ipython3",
   "version": "3.9.6"
  }
 },
 "nbformat": 4,
 "nbformat_minor": 2
}
